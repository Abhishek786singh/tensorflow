{
 "cells": [
  {
   "cell_type": "code",
   "execution_count": 1,
   "metadata": {
    "collapsed": true
   },
   "outputs": [],
   "source": [
    "import numpy as np"
   ]
  },
  {
   "cell_type": "code",
   "execution_count": 4,
   "metadata": {
    "collapsed": true
   },
   "outputs": [],
   "source": [
    "import tensorflow as tf"
   ]
  },
  {
   "cell_type": "code",
   "execution_count": 3,
   "metadata": {
    "collapsed": true
   },
   "outputs": [],
   "source": [
    "import cv2"
   ]
  },
  {
   "cell_type": "code",
   "execution_count": 5,
   "metadata": {},
   "outputs": [
    {
     "data": {
      "text/plain": [
       "<tf.Tensor 'add:0' shape=() dtype=int32>"
      ]
     },
     "execution_count": 5,
     "metadata": {},
     "output_type": "execute_result"
    }
   ],
   "source": [
    "h=tf.constant(5)\n",
    "b=tf.constant(6)\n",
    "c=h+b\n",
    "c"
   ]
  },
  {
   "cell_type": "code",
   "execution_count": 7,
   "metadata": {},
   "outputs": [
    {
     "name": "stdout",
     "output_type": "stream",
     "text": [
      "11\n"
     ]
    }
   ],
   "source": [
    "sess=tf.Session()\n",
    "print(sess.run(c))\n",
    "sess.close()"
   ]
  },
  {
   "cell_type": "code",
   "execution_count": 10,
   "metadata": {},
   "outputs": [
    {
     "name": "stdout",
     "output_type": "stream",
     "text": [
      "[4. 6. 8.]\n"
     ]
    }
   ],
   "source": [
    "a=tf.placeholder(tf.float32)\n",
    "b=tf.placeholder(tf.float32)\n",
    "adder_node=a+b\n",
    "sess=tf.Session()\n",
    "print(sess.run(adder_node,feed_dict={a:[1,2,3],b:[3,4,5]}))\n"
   ]
  },
  {
   "cell_type": "code",
   "execution_count": 15,
   "metadata": {},
   "outputs": [
    {
     "name": "stdout",
     "output_type": "stream",
     "text": [
      "[0.3]\n"
     ]
    }
   ],
   "source": [
    "# variable \n",
    "w=tf.Variable([.3],tf.float32)\n",
    "#b=tf.Variable([-.9],tf.float32)\n",
    "#x=tf.placeholder(tf.float32)\n",
    "init=tf.global_variables_initializer()# this line of code very is import weh ever Variabel is used\n",
    "sess=tf.Session()\n",
    "sess.run(init)\n",
    "print(sess.run(w))\n",
    "\n"
   ]
  },
  {
   "cell_type": "code",
   "execution_count": 16,
   "metadata": {},
   "outputs": [
    {
     "name": "stdout",
     "output_type": "stream",
     "text": [
      "[-5.9999996e-01 -2.9999995e-01  5.9604645e-08  3.0000007e-01\n",
      "  1.6200001e+01]\n"
     ]
    }
   ],
   "source": [
    "# y=b+w*x\n",
    "w=tf.Variable([.3],tf.float32)\n",
    "b=tf.Variable([-.9],tf.float32)\n",
    "x=tf.placeholder(tf.float32)\n",
    "linear_model=w*x+b\n",
    "init=tf.global_variables_initializer()\n",
    "sess=tf.Session()\n",
    "sess.run(init)\n",
    "print(sess.run(linear_model,{x:[1,2,3,4,57]}))"
   ]
  },
  {
   "cell_type": "code",
   "execution_count": null,
   "metadata": {
    "collapsed": true
   },
   "outputs": [],
   "source": [
    "y=tf.subtract(10,4)\n",
    "z=tf.multiply(2,5)\n",
    "#converting data type\n"
   ]
  },
  {
   "cell_type": "code",
   "execution_count": null,
   "metadata": {
    "collapsed": true
   },
   "outputs": [],
   "source": [
    "with tf.Session()as sees:\n",
    "    print(sess.run(tf.subtract(tf.cast(tf.constant(2.0),tf.int32),tf.constant(1))))#for type casting"
   ]
  },
  {
   "cell_type": "code",
   "execution_count": 17,
   "metadata": {},
   "outputs": [
    {
     "name": "stdout",
     "output_type": "stream",
     "text": [
      "4.0\n"
     ]
    }
   ],
   "source": [
    "#tenssorflow divid\n",
    "x=tf.constant(10)\n",
    "y=tf.constant(2)\n",
    "z=tf.subtract(tf.divide(x,y),tf.cast(tf.constant(1),tf.float64))\n",
    "with tf.Session() as sess:\n",
    "    output=sess.run(z)\n",
    "    print(output)"
   ]
  },
  {
   "cell_type": "code",
   "execution_count": 1,
   "metadata": {},
   "outputs": [],
   "source": [
    "import tensorflow"
   ]
  },
  {
   "cell_type": "code",
   "execution_count": 2,
   "metadata": {},
   "outputs": [],
   "source": [
    "import cv2"
   ]
  },
  {
   "cell_type": "code",
   "execution_count": 6,
   "metadata": {},
   "outputs": [],
   "source": [
    "#from tqdm import tqdm\n",
    "import  os\n",
    "from random import shuffle\n"
   ]
  },
  {
   "cell_type": "code",
   "execution_count": 1,
   "metadata": {},
   "outputs": [],
   "source": [
    "\n",
    "imagepath='C:/Users/User/Pictures/adheesh.jpg'\n",
    "algopath='F:/ipl/haarcascade_frontalface_default.xml'\n",
    "    "
   ]
  },
  {
   "cell_type": "code",
   "execution_count": 24,
   "metadata": {},
   "outputs": [],
   "source": [
    "\n",
    "image=cv2.imread(imagepath)\n",
    "image=cv2.resize(image,(700,700))"
   ]
  },
  {
   "cell_type": "code",
   "execution_count": 25,
   "metadata": {},
   "outputs": [],
   "source": [
    "fcascade=cv2.CascadeClassifier(algopath)\n"
   ]
  },
  {
   "cell_type": "code",
   "execution_count": 26,
   "metadata": {},
   "outputs": [],
   "source": [
    "faces=fcascade.detectMultiScale(image,scaleFactor=1.1,minSize=(50,50),minNeighbors=5,flags=cv2.CASCADE_SCALE_IMAGE)"
   ]
  },
  {
   "cell_type": "code",
   "execution_count": null,
   "metadata": {},
   "outputs": [],
   "source": [
    "for (x,y,w,h) in faces:\n",
    "    cv2.rectangle(image,(x,y),(x+w,y+h),(0,255,0),2)\n",
    "cv2.imshow(str(len(faces))+'faces',image)\n",
    "cv2.waitKey(0)\n",
    "cv2.destroyAllWindows()\n",
    "print(len(faces))"
   ]
  },
  {
   "cell_type": "code",
   "execution_count": null,
   "metadata": {},
   "outputs": [],
   "source": []
  },
  {
   "cell_type": "code",
   "execution_count": 1,
   "metadata": {},
   "outputs": [],
   "source": [
    "#algopath='C:/Users/User/Downloads/haarcascade_frontalface_default.xml'\n",
    "##import time 2\n",
    "\n",
    " img=cv2.VideoCapture(0) 3\n",
    " a=1 4\n",
    " while True: 5\n",
    "     a=a+1 5\n",
    "     state,pix=img.read() 6\n",
    "        print(pix) 7\n",
    "         gray=cv2.cvtColor(pix,cv2.COLOR_BGR2GRAY) 7\n",
    "    #faces=fcascade.detectMultiScale(pix,scaleFactor=1.1,minSize=(50,50),minNeighbors=5,flags=cv2.CASCADE_SCALE_IMAGE)\n",
    "    #print(len(faces))\n",
    "    #cv2.rectangle(pix,(x,y),(x+w,y+h),(0,255,0),2)\n",
    "    ##cv2.imshow(str(len(faces))+'faces',pix)\n",
    "     cv2.imshow('my_image',pix)#image or pix #for number of image str(len(faces)) 8\n",
    "     cv2.imwrite('myimage.jpg',pix)#shaving\n",
    "    cv2.waitKey(0)  9\n",
    "    if Key == ord('q'): 10\n",
    "        break 11\n",
    "print(a)         \n",
    "img.release()\n",
    "cv2.destroyAllWindows()"
   ]
  },
  {
   "cell_type": "code",
   "execution_count": null,
   "metadata": {},
   "outputs": [],
   "source": [
    "q\n"
   ]
  }
 ],
 "metadata": {
  "kernelspec": {
   "display_name": "Python 3",
   "language": "python",
   "name": "python3"
  },
  "language_info": {
   "codemirror_mode": {
    "name": "ipython",
    "version": 3
   },
   "file_extension": ".py",
   "mimetype": "text/x-python",
   "name": "python",
   "nbconvert_exporter": "python",
   "pygments_lexer": "ipython3",
   "version": "3.7.3"
  }
 },
 "nbformat": 4,
 "nbformat_minor": 2
}
